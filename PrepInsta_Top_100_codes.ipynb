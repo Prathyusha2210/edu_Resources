{
  "nbformat": 4,
  "nbformat_minor": 0,
  "metadata": {
    "colab": {
      "name": "PrepInsta Top 100 codes",
      "provenance": [],
      "collapsed_sections": [],
      "authorship_tag": "ABX9TyPrMWTpQaXbbumUQ919vhnu",
      "include_colab_link": true
    },
    "kernelspec": {
      "name": "python3",
      "display_name": "Python 3"
    },
    "language_info": {
      "name": "python"
    }
  },
  "cells": [
    {
      "cell_type": "markdown",
      "metadata": {
        "id": "view-in-github",
        "colab_type": "text"
      },
      "source": [
        "<a href=\"https://colab.research.google.com/github/Prathyusha2210/edu_Resources/blob/master/PrepInsta_Top_100_codes.ipynb\" target=\"_parent\"><img src=\"https://colab.research.google.com/assets/colab-badge.svg\" alt=\"Open In Colab\"/></a>"
      ]
    },
    {
      "cell_type": "markdown",
      "metadata": {
        "id": "mrMUlrWrtivd"
      },
      "source": [
        "1. Positive or Negative Number:"
      ]
    },
    {
      "cell_type": "code",
      "metadata": {
        "colab": {
          "base_uri": "https://localhost:8080/"
        },
        "id": "oEYclQ5WtqZk",
        "outputId": "12fdef0d-8225-4228-803d-f6fc2d0f712b"
      },
      "source": [
        "num = int(input(\"Enter a number: \"))\n",
        "if num > 0:\n",
        "  print(f\"{num} is positive\")\n",
        "elif num < 0:\n",
        "  print(f\"{num} is negative\")\n",
        "elif num == 0:\n",
        "  print(\"Zero is neither positive nor negative\")\n",
        "else:\n",
        "  print(\"Invalid input!\")"
      ],
      "execution_count": 1,
      "outputs": [
        {
          "output_type": "stream",
          "name": "stdout",
          "text": [
            "Enter a number: 5\n",
            "5 is positive\n"
          ]
        }
      ]
    },
    {
      "cell_type": "markdown",
      "metadata": {
        "id": "pFrEvninvJ-l"
      },
      "source": [
        "2. Even or Odd number:"
      ]
    },
    {
      "cell_type": "code",
      "metadata": {
        "colab": {
          "base_uri": "https://localhost:8080/"
        },
        "id": "IsSoFmfNvF_s",
        "outputId": "dbe30cb8-411b-4d4b-fb35-438b6c093553"
      },
      "source": [
        "n = int(input(\"Enter a number: \"))\n",
        "if n%2 == 0: \n",
        "  print(f\"{n} is an Even number\") \n",
        "else: \n",
        "  print(f\"{n} is an Odd number\")"
      ],
      "execution_count": 3,
      "outputs": [
        {
          "output_type": "stream",
          "name": "stdout",
          "text": [
            "Enter a number: 6\n",
            "6 is an Even number\n"
          ]
        }
      ]
    },
    {
      "cell_type": "markdown",
      "metadata": {
        "id": "tAT6MI4Ivsdu"
      },
      "source": [
        "3. and 4. Sum of First N natural numbers:"
      ]
    },
    {
      "cell_type": "code",
      "metadata": {
        "colab": {
          "base_uri": "https://localhost:8080/"
        },
        "id": "wL8H7Xewvrds",
        "outputId": "9b62825b-dac7-49c0-f4a5-f9ef22ec7794"
      },
      "source": [
        "n = int(input(\"Enter the number to calculate the sum of n natural numbers: \"))\n",
        "print(\"%.2f\" %(n*(n+1)/2))"
      ],
      "execution_count": 6,
      "outputs": [
        {
          "output_type": "stream",
          "name": "stdout",
          "text": [
            "Enter the number to calculate the sum of n natural numbers: 3\n",
            "6.00\n"
          ]
        }
      ]
    },
    {
      "cell_type": "markdown",
      "metadata": {
        "id": "1msjaAQ0xZE3"
      },
      "source": [
        "5. Sum of numbers in a given range:\n"
      ]
    },
    {
      "cell_type": "code",
      "metadata": {
        "colab": {
          "base_uri": "https://localhost:8080/"
        },
        "id": "pdqE4EKPxV9y",
        "outputId": "03bbb64d-37e2-4919-f89f-68c6a3970e7d"
      },
      "source": [
        "n,m = map(int,input(\"Enter the range of the numbers: \").split())\n",
        "sum = 0 \n",
        "for i in range(n,m+1):\n",
        "  sum += i\n",
        "print(f\"The sum of numbers between {n} and {m} is {sum}\") "
      ],
      "execution_count": 7,
      "outputs": [
        {
          "output_type": "stream",
          "name": "stdout",
          "text": [
            "Enter the range of the numbers: 3 5\n",
            "The sum of numbers between 3 and 5 is 12\n"
          ]
        }
      ]
    },
    {
      "cell_type": "markdown",
      "metadata": {
        "id": "UzaCeePFyqrz"
      },
      "source": [
        "6. Greatest of two numbers:"
      ]
    },
    {
      "cell_type": "code",
      "metadata": {
        "colab": {
          "base_uri": "https://localhost:8080/"
        },
        "id": "B7R1assDyqAE",
        "outputId": "bc0f1a22-345e-4cea-c055-5214eae33a21"
      },
      "source": [
        "n,m = map(int,input(\"Enter two numbers: \").split())\n",
        "if n > m : print(f\"{n} is greater than {m}\")\n",
        "elif m > n: print(f\"{m} is greater than {n}\")\n",
        "else: print(f\"{n} and {m} are equal\")"
      ],
      "execution_count": 8,
      "outputs": [
        {
          "output_type": "stream",
          "name": "stdout",
          "text": [
            "Enter two numbers: 6 3\n",
            "6 is greater than 3\n"
          ]
        }
      ]
    },
    {
      "cell_type": "markdown",
      "metadata": {
        "id": "opV6mSuXznFx"
      },
      "source": [
        "7. Greatest of three numbers:"
      ]
    },
    {
      "cell_type": "code",
      "metadata": {
        "colab": {
          "base_uri": "https://localhost:8080/"
        },
        "id": "0oHF0x6_zmaa",
        "outputId": "392099a5-d52d-4f61-c11f-884473ff109c"
      },
      "source": [
        "a,b,c = map(int,input(\"Enter 3 distinct numbers: \").split())\n",
        "if a >= c:\n",
        "  if a >= b:\n",
        "    print(f\"{a} is the greatest\")\n",
        "  else:\n",
        "    print(f\"{b} is the greatest\")\n",
        "if b >= c:\n",
        "  print(f\"{b} is the greatest\")\n",
        "else:\n",
        "  print(f\"{c} is the greatest\")\n"
      ],
      "execution_count": 10,
      "outputs": [
        {
          "output_type": "stream",
          "name": "stdout",
          "text": [
            "Enter 3 distinct numbers: 5 5 5\n",
            "5 is the greatest\n",
            "5 is the greatest\n"
          ]
        }
      ]
    },
    {
      "cell_type": "markdown",
      "metadata": {
        "id": "9qV7DHR52QS5"
      },
      "source": [
        "8. Leap year or Not:"
      ]
    },
    {
      "cell_type": "code",
      "metadata": {
        "id": "vp_hSdgE2VWp"
      },
      "source": [
        ""
      ],
      "execution_count": null,
      "outputs": []
    }
  ]
}